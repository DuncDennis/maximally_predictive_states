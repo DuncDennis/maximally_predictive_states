{
 "cells": [
  {
   "cell_type": "code",
   "execution_count": 2,
   "id": "initial_id",
   "metadata": {
    "collapsed": true,
    "ExecuteTime": {
     "end_time": "2023-11-28T02:19:59.318339800Z",
     "start_time": "2023-11-28T02:19:57.372Z"
    }
   },
   "outputs": [],
   "source": [
    "import numpy as np\n",
    "import matplotlib.pyplot as plt"
   ]
  },
  {
   "cell_type": "markdown",
   "source": [
    "# 1. Load and combine data\n",
    "\n",
    "**Data information**\n",
    "- The first entry corresponds to the head tip. \n",
    "- The last 3 correspond to the tail tip. \n",
    "- The timestep is $\\Delta t = 1/5s $"
   ],
   "metadata": {
    "collapsed": false
   },
   "id": "9f8592983847c085"
  },
  {
   "cell_type": "code",
   "execution_count": 22,
   "outputs": [
    {
     "name": "stdout",
     "output_type": "stream",
     "text": [
      "filename='raw/video2_x.csv': sub_data.shape=(24, 1938)\n",
      "filename='raw/video2_y.csv': sub_data.shape=(24, 1938)\n",
      "combined_filename='combined/video2.npy': combined_data.shape=(1938, 24, 2)\n",
      "\n",
      "filename='raw/video3_x.csv': sub_data.shape=(24, 2999)\n",
      "filename='raw/video3_y.csv': sub_data.shape=(24, 2999)\n",
      "combined_filename='combined/video3.npy': combined_data.shape=(2999, 24, 2)\n"
     ]
    }
   ],
   "source": [
    "# 1. Load raw data and combine: \n",
    "for name in [\"video2\", \"video3\"]:\n",
    "    combined_data = []\n",
    "    for xy in [\"x\", \"y\"]:\n",
    "        filename = f\"raw/{name}_{xy}.csv\"\n",
    "        sub_data = np.loadtxt(filename , delimiter = \",\")\n",
    "        print(f\"{filename=}: {sub_data.shape=}\")\n",
    "        combined_data.append(sub_data)\n",
    "    combined_data = np.array(combined_data).T\n",
    "    \n",
    "    # save: \n",
    "    combined_filename = f\"combined/{name}.npy\"\n",
    "    np.save(combined_filename, combined_data)\n",
    "    print(f\"{combined_filename=}: {combined_data.shape=}\\n\")"
   ],
   "metadata": {
    "collapsed": false,
    "ExecuteTime": {
     "end_time": "2023-11-27T02:01:43.565036600Z",
     "start_time": "2023-11-27T02:01:43.385024800Z"
    }
   },
   "id": "cdd9c95407c04ecb"
  },
  {
   "cell_type": "markdown",
   "source": [
    "# 2. Preprocess data (centering): \n",
    "\n",
    "- Take the combined data and use only one tail point (instead of 3). \n",
    "- at each time step, subtract the center of mass of each skelleton point. "
   ],
   "metadata": {
    "collapsed": false
   },
   "id": "aa3f092af955aa7c"
  },
  {
   "cell_type": "code",
   "execution_count": 32,
   "outputs": [
    {
     "name": "stdout",
     "output_type": "stream",
     "text": [
      "combined_data_one_tail.shape=(1938, 22, 2)\n",
      "center_of_mass.shape=(1938, 2)\n",
      "centered_data.shape=(1938, 22, 2)\n",
      "combined_data_one_tail.shape=(2999, 22, 2)\n",
      "center_of_mass.shape=(2999, 2)\n",
      "centered_data.shape=(2999, 22, 2)\n"
     ]
    }
   ],
   "source": [
    "for name in [\"video2\", \"video3\"]:\n",
    "    # load combined data: \n",
    "    combined_data = np.load(f\"combined/{name}.npy\")\n",
    "    \n",
    "    # remove two of the three tail points: \n",
    "    combined_data_one_tail = combined_data[:, :-2, :]\n",
    "    print(f\"{combined_data_one_tail.shape=}\")\n",
    "    \n",
    "    # remove center of mass for each frame: \n",
    "    center_of_mass = np.mean(combined_data_one_tail, axis=1)\n",
    "    print(f\"{center_of_mass.shape=}\")\n",
    "    \n",
    "    nr_of_body_points = combined_data_one_tail.shape[1]  # should be 22.\n",
    "    centered_data = combined_data_one_tail - np.repeat(center_of_mass[:, np.newaxis, :], repeats=nr_of_body_points, axis=1)\n",
    "    \n",
    "    print(f\"{centered_data.shape=}\")\n",
    "    preprocessed_filename = f\"centered/{name}_centered.npy\"\n",
    "    np.save(preprocessed_filename, centered_data)\n",
    "    "
   ],
   "metadata": {
    "collapsed": false,
    "ExecuteTime": {
     "end_time": "2023-11-27T05:07:12.264027100Z",
     "start_time": "2023-11-27T05:07:12.236031300Z"
    }
   },
   "id": "611b2a93f054caaf"
  },
  {
   "cell_type": "markdown",
   "source": [
    "# 3. Make head and Tail always in one line. \n",
    "\n",
    "- head and tail will always be on a horizontal line with the head on the right side (positive x axis) and tail on the left (negativ x axis). "
   ],
   "metadata": {
    "collapsed": false
   },
   "id": "b37ae356dc2768ed"
  },
  {
   "cell_type": "code",
   "execution_count": 24,
   "outputs": [
    {
     "name": "stdout",
     "output_type": "stream",
     "text": [
      "name='video2'\n",
      "centered_data.shape=(1938, 22, 2)\n",
      "rotation_matrix.shape=(2, 2, 1938)\n",
      "name='video3'\n",
      "centered_data.shape=(2999, 22, 2)\n",
      "rotation_matrix.shape=(2, 2, 2999)\n"
     ]
    }
   ],
   "source": [
    "for name in [\"video2\", \"video3\"]:\n",
    "    print(f\"{name=}\")\n",
    "    # load combined data: \n",
    "    centered_data = np.load(f\"centered/{name}_centered.npy\")\n",
    "    print(f\"{centered_data.shape=}\")\n",
    "    \n",
    "    head = centered_data[:, 0, :]\n",
    "    tail = centered_data[:, -1, :]\n",
    "    diff = head - tail\n",
    "    dx = diff[:, 0]\n",
    "    dy = diff[:, 1]\n",
    "    \n",
    "    # rotation matrix: \n",
    "    angles = np.arctan(dy/dx)\n",
    "    # print(angles)\n",
    "    \n",
    "    rotation_matrix = np.array([[np.cos(angles), -np.sin(angles)],\n",
    "                           [np.sin(angles), np.cos(angles)]])\n",
    "    print(f\"{rotation_matrix.shape=}\")\n",
    "    \n",
    "    rotated_points = np.zeros(centered_data.shape)\n",
    "    \n",
    "    for i_frame,  points in enumerate(centered_data):\n",
    "        for i_point, point in enumerate(points):\n",
    "            rotated_point = np.dot(point, rotation_matrix[:, :, i_frame])\n",
    "            rotated_points[i_frame, i_point, :] = rotated_point\n",
    "    \n",
    "    rotated_filename = f\"rotated/{name}_rotated.npy\"\n",
    "    np.save(rotated_filename, rotated_points)\n",
    "    "
   ],
   "metadata": {
    "collapsed": false,
    "ExecuteTime": {
     "end_time": "2023-11-28T02:43:54.830244300Z",
     "start_time": "2023-11-28T02:43:54.270241300Z"
    }
   },
   "id": "e3951c878e12e514"
  },
  {
   "cell_type": "code",
   "execution_count": null,
   "outputs": [],
   "source": [],
   "metadata": {
    "collapsed": false
   },
   "id": "79e7e0185f350a8"
  }
 ],
 "metadata": {
  "kernelspec": {
   "display_name": "Python 3",
   "language": "python",
   "name": "python3"
  },
  "language_info": {
   "codemirror_mode": {
    "name": "ipython",
    "version": 2
   },
   "file_extension": ".py",
   "mimetype": "text/x-python",
   "name": "python",
   "nbconvert_exporter": "python",
   "pygments_lexer": "ipython2",
   "version": "2.7.6"
  }
 },
 "nbformat": 4,
 "nbformat_minor": 5
}
